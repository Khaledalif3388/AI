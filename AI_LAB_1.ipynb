{
  "nbformat": 4,
  "nbformat_minor": 0,
  "metadata": {
    "colab": {
      "provenance": []
    },
    "kernelspec": {
      "name": "python3",
      "display_name": "Python 3"
    },
    "language_info": {
      "name": "python"
    }
  },
  "cells": [
    {
      "cell_type": "markdown",
      "source": [
        "# **Python Basic**"
      ],
      "metadata": {
        "id": "DypAKTs2MHfg"
      }
    },
    {
      "cell_type": "code",
      "source": [
        "#Print\n",
        "print(\"Khaled learning Python\")"
      ],
      "metadata": {
        "colab": {
          "base_uri": "https://localhost:8080/"
        },
        "id": "NXB9U1TrMMWW",
        "outputId": "4a2ca39c-fcd5-4437-ac0e-1baa7428b057"
      },
      "execution_count": null,
      "outputs": [
        {
          "output_type": "stream",
          "name": "stdout",
          "text": [
            "Khaled learning Python\n"
          ]
        }
      ]
    },
    {
      "cell_type": "code",
      "source": [
        "#if else\n",
        "if 5>2:\n",
        "  print(\"Five greater than 2\")\n",
        "else:\n",
        "  print(\"Two greater than 5\")"
      ],
      "metadata": {
        "colab": {
          "base_uri": "https://localhost:8080/"
        },
        "id": "u-uxQa4pMcXR",
        "outputId": "95314267-20b4-4dc5-dde8-812cf7781b0f"
      },
      "execution_count": null,
      "outputs": [
        {
          "output_type": "stream",
          "name": "stdout",
          "text": [
            "Five greater than 2\n"
          ]
        }
      ]
    },
    {
      "cell_type": "code",
      "source": [
        "#Comment\n",
        "\"\"\"This\n",
        "is a\n",
        "multi line Comment \"\"\""
      ],
      "metadata": {
        "colab": {
          "base_uri": "https://localhost:8080/",
          "height": 35
        },
        "id": "2aLTfMGsMzKE",
        "outputId": "dad09942-1808-4f74-a772-05bcfc209104"
      },
      "execution_count": null,
      "outputs": [
        {
          "output_type": "execute_result",
          "data": {
            "text/plain": [
              "'This \\nis a \\nmulti line Comment '"
            ],
            "application/vnd.google.colaboratory.intrinsic+json": {
              "type": "string"
            }
          },
          "metadata": {},
          "execution_count": 6
        }
      ]
    },
    {
      "cell_type": "code",
      "source": [
        "#Variable\n",
        "x,y,z = \"Blue\" , \"Black\" , \"White\"\n",
        "print(x)\n",
        "print(y)\n",
        "print(z)"
      ],
      "metadata": {
        "colab": {
          "base_uri": "https://localhost:8080/"
        },
        "id": "OMKekUP4NN5J",
        "outputId": "12bb1c89-f3a7-44ce-de3e-94056674c132"
      },
      "execution_count": null,
      "outputs": [
        {
          "output_type": "stream",
          "name": "stdout",
          "text": [
            "Blue\n",
            "Black\n",
            "White\n"
          ]
        }
      ]
    },
    {
      "cell_type": "code",
      "source": [
        "#Unpack Variables\n",
        "lis = [\"Blue\",\"White\",\"Black\"]\n",
        "a,b,c=lis\n",
        "print(a)\n",
        "print(b)\n",
        "print(c)"
      ],
      "metadata": {
        "colab": {
          "base_uri": "https://localhost:8080/"
        },
        "id": "jDojP4pvNsuJ",
        "outputId": "a2ada928-dd9b-496f-e742-753e75856482"
      },
      "execution_count": null,
      "outputs": [
        {
          "output_type": "stream",
          "name": "stdout",
          "text": [
            "Blue\n",
            "White\n",
            "Black\n"
          ]
        }
      ]
    },
    {
      "cell_type": "code",
      "source": [
        "#Output Variable\n",
        "aa=5\n",
        "bb=6\n",
        "print(aa+bb)"
      ],
      "metadata": {
        "colab": {
          "base_uri": "https://localhost:8080/"
        },
        "id": "k2z08xFuN-b4",
        "outputId": "6fd7965b-c677-46d2-8e6f-c43ea827b007"
      },
      "execution_count": null,
      "outputs": [
        {
          "output_type": "stream",
          "name": "stdout",
          "text": [
            "11\n"
          ]
        }
      ]
    },
    {
      "cell_type": "code",
      "source": [
        "#function and global variable\n",
        "var1 = \"Awesome\"\n",
        "def myfunc():\n",
        "  print(\"Python is\",var1)\n",
        "myfunc()"
      ],
      "metadata": {
        "colab": {
          "base_uri": "https://localhost:8080/"
        },
        "id": "hKc58W4gOR2U",
        "outputId": "e7ec46e0-be0c-4e87-f812-25a535326a3a"
      },
      "execution_count": null,
      "outputs": [
        {
          "output_type": "stream",
          "name": "stdout",
          "text": [
            "Python is Awesome\n"
          ]
        }
      ]
    },
    {
      "cell_type": "code",
      "source": [
        "#Type casting\n",
        "var2 = int(45.7)\n",
        "var3 = float(\"2.5\")\n",
        "var4 = int(\"3\")\n",
        "print(type(var2))\n",
        "print(type(var3))\n",
        "print(type(var4))"
      ],
      "metadata": {
        "colab": {
          "base_uri": "https://localhost:8080/"
        },
        "id": "KSExWbUaNCHD",
        "outputId": "63be4d1c-721a-4d4d-fae9-b328b59c5195"
      },
      "execution_count": null,
      "outputs": [
        {
          "output_type": "stream",
          "name": "stdout",
          "text": [
            "<class 'int'>\n",
            "<class 'float'>\n",
            "<class 'int'>\n"
          ]
        }
      ]
    },
    {
      "cell_type": "code",
      "source": [
        "#Random number print\n",
        "import random\n",
        "print(random.randrange(1,20))"
      ],
      "metadata": {
        "colab": {
          "base_uri": "https://localhost:8080/"
        },
        "id": "EjE3W8OyM8bG",
        "outputId": "ea47584b-b804-4bf2-9dec-93813f0254f9"
      },
      "execution_count": null,
      "outputs": [
        {
          "output_type": "stream",
          "name": "stdout",
          "text": [
            "15\n"
          ]
        }
      ]
    },
    {
      "cell_type": "code",
      "source": [
        "#len function\n",
        "var5 = \"Hello, World!\"\n",
        "print(len(var5))"
      ],
      "metadata": {
        "colab": {
          "base_uri": "https://localhost:8080/"
        },
        "id": "SbtGf8FuPY6q",
        "outputId": "b7168d38-7ff7-4b59-be18-5ebc68a37594"
      },
      "execution_count": null,
      "outputs": [
        {
          "output_type": "stream",
          "name": "stdout",
          "text": [
            "13\n"
          ]
        }
      ]
    },
    {
      "cell_type": "code",
      "source": [
        "#For each loop\n",
        "var6 = \"I am Khaled\"\n",
        "for x in var6:\n",
        "  print(x)"
      ],
      "metadata": {
        "colab": {
          "base_uri": "https://localhost:8080/"
        },
        "id": "lwBYurcNP3B3",
        "outputId": "18ffe5b3-c5d6-400a-86d1-bd1b51fef095"
      },
      "execution_count": null,
      "outputs": [
        {
          "output_type": "stream",
          "name": "stdout",
          "text": [
            "I\n",
            " \n",
            "a\n",
            "m\n",
            " \n",
            "K\n",
            "h\n",
            "a\n",
            "l\n",
            "e\n",
            "d\n"
          ]
        }
      ]
    },
    {
      "cell_type": "code",
      "source": [
        "#String slicing\n",
        "print(var6[2:8])"
      ],
      "metadata": {
        "colab": {
          "base_uri": "https://localhost:8080/"
        },
        "id": "7cvWW4LwP0Qj",
        "outputId": "026e8aa0-313a-4a6e-d318-a2dfcc318d8e"
      },
      "execution_count": null,
      "outputs": [
        {
          "output_type": "stream",
          "name": "stdout",
          "text": [
            "am Kha\n"
          ]
        }
      ]
    },
    {
      "cell_type": "code",
      "source": [
        "#Negative INdexing\n",
        "print(var6[-6:-1])"
      ],
      "metadata": {
        "colab": {
          "base_uri": "https://localhost:8080/"
        },
        "id": "QBI5WQ1ZQNwY",
        "outputId": "19562d0e-cecb-48f3-f4da-0eec74ccb2dd"
      },
      "execution_count": null,
      "outputs": [
        {
          "output_type": "stream",
          "name": "stdout",
          "text": [
            "Khale\n"
          ]
        }
      ]
    },
    {
      "cell_type": "code",
      "source": [
        "print(bool(\"\"))"
      ],
      "metadata": {
        "colab": {
          "base_uri": "https://localhost:8080/"
        },
        "id": "z4Wpblp6Ql_N",
        "outputId": "b497dd0b-6f7e-43ab-9744-b46e54b74cea"
      },
      "execution_count": null,
      "outputs": [
        {
          "output_type": "stream",
          "name": "stdout",
          "text": [
            "False\n"
          ]
        }
      ]
    }
  ]
}