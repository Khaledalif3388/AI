{
  "nbformat": 4,
  "nbformat_minor": 0,
  "metadata": {
    "colab": {
      "provenance": []
    },
    "kernelspec": {
      "name": "python3",
      "display_name": "Python 3"
    },
    "language_info": {
      "name": "python"
    }
  },
  "cells": [
    {
      "cell_type": "markdown",
      "source": [
        "# **Numpy**"
      ],
      "metadata": {
        "id": "45xJ7La1fmy5"
      }
    },
    {
      "cell_type": "code",
      "execution_count": null,
      "metadata": {
        "id": "J8RSgnFbqHYO"
      },
      "outputs": [],
      "source": [
        "import numpy as np"
      ]
    },
    {
      "cell_type": "code",
      "source": [
        "arr=np.array([1,2,3,6,5]) #arr is the ndarray object name\n",
        "# print(arr) #print method 1\n",
        "\n",
        "# for i in range(0,len(arr)): #Print method 2\n",
        "#   print(arr[i])\n",
        "\n",
        "for i in arr: #print method 3\n",
        "  print(i)"
      ],
      "metadata": {
        "colab": {
          "base_uri": "https://localhost:8080/"
        },
        "id": "uQZU1WbcqTuT",
        "outputId": "5b149f84-fc20-42b9-ea00-c2c7969fb4e3"
      },
      "execution_count": null,
      "outputs": [
        {
          "output_type": "stream",
          "name": "stdout",
          "text": [
            "1\n",
            "2\n",
            "3\n",
            "6\n",
            "5\n"
          ]
        }
      ]
    },
    {
      "cell_type": "code",
      "source": [
        "print(np.__version__)"
      ],
      "metadata": {
        "colab": {
          "base_uri": "https://localhost:8080/"
        },
        "id": "8wCBfAW-qeib",
        "outputId": "64191357-2ce0-4f2a-ac13-da62be99607c"
      },
      "execution_count": null,
      "outputs": [
        {
          "output_type": "stream",
          "name": "stdout",
          "text": [
            "1.23.5\n"
          ]
        }
      ]
    },
    {
      "cell_type": "code",
      "source": [
        "print(type(arr))"
      ],
      "metadata": {
        "colab": {
          "base_uri": "https://localhost:8080/"
        },
        "id": "hjtKwNhzrEg9",
        "outputId": "073b36eb-aaeb-42cc-ae46-befd8d1f9ce8"
      },
      "execution_count": null,
      "outputs": [
        {
          "output_type": "stream",
          "name": "stdout",
          "text": [
            "<class 'numpy.ndarray'>\n"
          ]
        }
      ]
    },
    {
      "cell_type": "code",
      "source": [
        "#0D array\n",
        "arr1=np.array(42)\n",
        "print(arr1)"
      ],
      "metadata": {
        "colab": {
          "base_uri": "https://localhost:8080/"
        },
        "id": "a8OLGnPCryoZ",
        "outputId": "db3cfe9c-ca0e-4c60-df23-4c3376926f73"
      },
      "execution_count": null,
      "outputs": [
        {
          "output_type": "stream",
          "name": "stdout",
          "text": [
            "42\n"
          ]
        }
      ]
    },
    {
      "cell_type": "code",
      "source": [
        "#1D array\n",
        "arr2=np.array([12,23,45,122,45])\n",
        "# for i in arr2: #print in ascending order\n",
        "#   print(i)\n",
        "\n",
        "for j in range((len(arr2)-1),-1,-1): #print in descending order\n",
        "  print(arr2[j])"
      ],
      "metadata": {
        "colab": {
          "base_uri": "https://localhost:8080/"
        },
        "id": "O4aTaATZsR_S",
        "outputId": "cb370e08-8020-4128-b8d0-3f8ffdd3d30d"
      },
      "execution_count": null,
      "outputs": [
        {
          "output_type": "stream",
          "name": "stdout",
          "text": [
            "45\n",
            "122\n",
            "45\n",
            "23\n",
            "12\n"
          ]
        }
      ]
    },
    {
      "cell_type": "code",
      "source": [
        "#2D array\n",
        "arr3=np.array([[1,2,3],[4,5,6]])\n",
        "\n",
        "# for i in arr3: #print in ascending order\n",
        "#   for j in i:\n",
        "#     print(j,end=' ')\n",
        "#   print()\n",
        "\n",
        "# Print the arr3 in descending order\n",
        "# for i in range((len(arr3) - 1), -1, -1):\n",
        "#   for j in arr3[i][::-1]:\n",
        "#     print(j, end=\" \")\n",
        "#   print()\n",
        "\n",
        "#alternate way\n",
        "for i in range((len(arr3) - 1), -1, -1):\n",
        "  for j in range((len(arr3[i]) - 1), -1, -1):\n",
        "    print(arr3[i][j], end=\" \")\n",
        "  print()"
      ],
      "metadata": {
        "colab": {
          "base_uri": "https://localhost:8080/"
        },
        "id": "2nswoMBTsZDf",
        "outputId": "a334d597-8eba-4eec-9d78-862a8ccc4c8b"
      },
      "execution_count": null,
      "outputs": [
        {
          "output_type": "stream",
          "name": "stdout",
          "text": [
            "6 5 4 \n",
            "3 2 1 \n"
          ]
        }
      ]
    },
    {
      "cell_type": "code",
      "source": [
        "#3D array\n",
        "arr4=np.array([[[1,2,3],[4,5,6]],[[7,8,9]]])\n",
        "# print(arr4.ndim)\n",
        "# print arr4 in ascending order\n",
        "for i in arr4:\n",
        "  for j in i:\n",
        "    for k in j:\n",
        "      print(k,end=' ')\n",
        "    print()\n",
        "\n",
        "#print arr4 in descending order\n",
        "# for i in range((len(arr4)-1),-1,-1):\n",
        "#   for j in range((len(arr4[i])-1),-1,-1):\n",
        "#     for k in arr4[i][j][::-1]:\n",
        "#       print(k,end=' ')\n",
        "#     print()\n",
        "\n",
        "#print arr4 in descending order alternate\n",
        "# for i in range((len(arr4)-1),-1,-1):\n",
        "#   for j in range((len(arr4[i])-1),-1,-1):\n",
        "#     for k in range((len(arr4[i][j])-1),-1,-1):\n",
        "#       print(arr4[i][j][k],end=' ')\n",
        "#     print()"
      ],
      "metadata": {
        "colab": {
          "base_uri": "https://localhost:8080/"
        },
        "id": "NuwAXFfhthEA",
        "outputId": "f7e32422-356c-4469-f446-90fa45c68644"
      },
      "execution_count": null,
      "outputs": [
        {
          "output_type": "stream",
          "name": "stdout",
          "text": [
            "1 2 3 \n",
            "4 5 6 \n",
            "7 8 9 \n"
          ]
        },
        {
          "output_type": "stream",
          "name": "stderr",
          "text": [
            "<ipython-input-10-1989c28c399e>:2: VisibleDeprecationWarning: Creating an ndarray from ragged nested sequences (which is a list-or-tuple of lists-or-tuples-or ndarrays with different lengths or shapes) is deprecated. If you meant to do this, you must specify 'dtype=object' when creating the ndarray.\n",
            "  arr4=np.array([[[1,2,3],[4,5,6]],[[7,8,9]]])\n"
          ]
        }
      ]
    },
    {
      "cell_type": "code",
      "source": [
        "#dimension set\n",
        "import numpy as np\n",
        "arr5=np.array([1,2,3,4,5],ndmin=5)\n",
        "print(arr5.ndim)\n",
        "print(arr5)"
      ],
      "metadata": {
        "colab": {
          "base_uri": "https://localhost:8080/"
        },
        "id": "j1BP38bYGE_f",
        "outputId": "44fafc3e-dc9f-4b74-ab03-3e7047181804"
      },
      "execution_count": null,
      "outputs": [
        {
          "output_type": "stream",
          "name": "stdout",
          "text": [
            "5\n",
            "[[[[[1 2 3 4 5]]]]]\n"
          ]
        }
      ]
    },
    {
      "cell_type": "code",
      "source": [
        "#1D array indexing\n",
        "arr6=np.array([1,3,4,5,6])\n",
        "print(arr6[1]+arr6[3])\n",
        "print(arr6[-1])"
      ],
      "metadata": {
        "colab": {
          "base_uri": "https://localhost:8080/"
        },
        "id": "xDdym5iBJZGb",
        "outputId": "4903be77-7b16-4047-baf0-240b41964908"
      },
      "execution_count": null,
      "outputs": [
        {
          "output_type": "stream",
          "name": "stdout",
          "text": [
            "8\n",
            "6\n"
          ]
        }
      ]
    },
    {
      "cell_type": "code",
      "source": [
        "#2D array indexing\n",
        "arr3=np.array([[1,2,3],[4,5,6]])\n",
        "print(arr3[0][2])\n",
        "print(arr3[-1][-2])"
      ],
      "metadata": {
        "colab": {
          "base_uri": "https://localhost:8080/"
        },
        "id": "FDPAf0fUVnht",
        "outputId": "e9f7bfd5-9fc5-4dba-d5bd-64363219c60d"
      },
      "execution_count": null,
      "outputs": [
        {
          "output_type": "stream",
          "name": "stdout",
          "text": [
            "3\n",
            "5\n"
          ]
        }
      ]
    },
    {
      "cell_type": "code",
      "source": [
        "#3D array indexing\n",
        "# arr4=np.array([[[1,2,3],[4,5,6]],[[7,8,9],[11,12,13]]])\n",
        "print(arr4[1][0][2])\n",
        "print(arr4[-2][-1][-3])"
      ],
      "metadata": {
        "colab": {
          "base_uri": "https://localhost:8080/"
        },
        "id": "0_toSyO7V72W",
        "outputId": "90498c03-355f-4111-9f66-e17419e31d65"
      },
      "execution_count": null,
      "outputs": [
        {
          "output_type": "stream",
          "name": "stdout",
          "text": [
            "9\n",
            "4\n"
          ]
        }
      ]
    },
    {
      "cell_type": "markdown",
      "source": [
        "**Numpy slicing**"
      ],
      "metadata": {
        "id": "f2hUqBdDgJ2-"
      }
    },
    {
      "cell_type": "code",
      "source": [
        "#Slicing 1D array\n",
        "arr7=np.array([1,2,3,4,5,6,7,8])\n",
        "print(arr7[1:5])\n",
        "print(arr7[:4])\n",
        "print(arr7[4:])\n",
        "print(arr7[-6:-1])\n",
        "print(arr7[1:6:2])\n",
        "print(arr7[::2])"
      ],
      "metadata": {
        "colab": {
          "base_uri": "https://localhost:8080/"
        },
        "id": "3hZx6WeUWTvo",
        "outputId": "0561aa0b-270f-47a2-b42b-904adee24612"
      },
      "execution_count": null,
      "outputs": [
        {
          "output_type": "stream",
          "name": "stdout",
          "text": [
            "[2 3 4 5]\n",
            "[1 2 3 4]\n",
            "[5 6 7 8]\n",
            "[3 4 5 6 7]\n",
            "[2 4 6]\n",
            "[1 3 5 7]\n"
          ]
        }
      ]
    },
    {
      "cell_type": "code",
      "source": [
        "#Slicing 2D array\n",
        "arr8 = np.array([[1,2,3,4,5,6,7,8],[9,12,23,34,45,56,78,87]])\n",
        "print(arr8[1,1:4])\n",
        "print(arr8[0:2,5])"
      ],
      "metadata": {
        "colab": {
          "base_uri": "https://localhost:8080/"
        },
        "id": "pl6Qa_cugTBN",
        "outputId": "57fc2192-e741-49af-c513-028ab083bf79"
      },
      "execution_count": null,
      "outputs": [
        {
          "output_type": "stream",
          "name": "stdout",
          "text": [
            "[12 23 34]\n",
            "[ 6 56]\n"
          ]
        }
      ]
    },
    {
      "cell_type": "code",
      "source": [
        "arr8 = np.array([[1,2,3,4,5,6,7,8],[9,12,23,34,45,56,78,87]])\n",
        "print(arr8[0:2,1:4])"
      ],
      "metadata": {
        "colab": {
          "base_uri": "https://localhost:8080/"
        },
        "id": "-XOgU3L7iFOa",
        "outputId": "640d1ae2-1a00-4d97-99e3-82a420a0c26a"
      },
      "execution_count": null,
      "outputs": [
        {
          "output_type": "stream",
          "name": "stdout",
          "text": [
            "[[ 2  3  4]\n",
            " [12 23 34]]\n"
          ]
        }
      ]
    },
    {
      "cell_type": "code",
      "source": [
        "print(arr8.dtype)"
      ],
      "metadata": {
        "colab": {
          "base_uri": "https://localhost:8080/"
        },
        "id": "FH3LLpx9kf21",
        "outputId": "bcc0c536-3692-48fa-d548-1b68155d69ca"
      },
      "execution_count": null,
      "outputs": [
        {
          "output_type": "stream",
          "name": "stdout",
          "text": [
            "int64\n"
          ]
        }
      ]
    },
    {
      "cell_type": "code",
      "source": [
        "arr9=np.array(['Apple','Orange','Banana'])\n",
        "print(arr9.dtype)"
      ],
      "metadata": {
        "colab": {
          "base_uri": "https://localhost:8080/"
        },
        "id": "ojV5zz8TnB5P",
        "outputId": "8a77380f-f98a-46b4-ad7e-d39232b04565"
      },
      "execution_count": null,
      "outputs": [
        {
          "output_type": "stream",
          "name": "stdout",
          "text": [
            "<U6\n"
          ]
        }
      ]
    },
    {
      "cell_type": "code",
      "source": [
        "# ar1=np.array(['1','2','3','a'],dtype='i4')\n",
        "# print(ar1)\n",
        "# print(arr.dtype)\n",
        "\n",
        "#farhenhite to celcius or vice versa\n",
        "# def func(x)"
      ],
      "metadata": {
        "id": "01DAEU2gnP87"
      },
      "execution_count": null,
      "outputs": []
    },
    {
      "cell_type": "code",
      "source": [
        "arr = np.array([[1,2,3,4,5], [6,7,8,9,10]])\n",
        "\n",
        "print('2nd element on 1st row: ', arr[0, 1])\n",
        "print(arr[0][1])"
      ],
      "metadata": {
        "id": "ifd4liH8nX-D",
        "colab": {
          "base_uri": "https://localhost:8080/"
        },
        "outputId": "6625d4bf-812d-4766-d0ff-795bde86adaa"
      },
      "execution_count": null,
      "outputs": [
        {
          "output_type": "stream",
          "name": "stdout",
          "text": [
            "2nd element on 1st row:  2\n",
            "2\n"
          ]
        }
      ]
    },
    {
      "cell_type": "code",
      "source": [
        "arr = np.array([1, 2, 3, 4, 5, 6, 7])\n",
        "\n",
        "print(arr[-3:-1])"
      ],
      "metadata": {
        "colab": {
          "base_uri": "https://localhost:8080/"
        },
        "id": "TQqco7_uRubV",
        "outputId": "bd9e1428-f2bf-4aaf-a525-637087f90fd2"
      },
      "execution_count": null,
      "outputs": [
        {
          "output_type": "stream",
          "name": "stdout",
          "text": [
            "[5 6]\n"
          ]
        }
      ]
    },
    {
      "cell_type": "code",
      "source": [
        "arr = np.array([1, 2, 3, 4, 5, 6, 7])\n",
        "\n",
        "print(arr[1:5:2])"
      ],
      "metadata": {
        "colab": {
          "base_uri": "https://localhost:8080/"
        },
        "id": "oWcw7nCKR957",
        "outputId": "0b19a2e6-a392-4ff5-bf94-da3b576ca157"
      },
      "execution_count": null,
      "outputs": [
        {
          "output_type": "stream",
          "name": "stdout",
          "text": [
            "[2 4]\n"
          ]
        }
      ]
    },
    {
      "cell_type": "code",
      "source": [
        "arr = np.array([[1, 2, 3, 4, 5], [6, 7, 8, 9, 10]])\n",
        "\n",
        "print(arr[1, 1:4])"
      ],
      "metadata": {
        "id": "NHKeMhynSbfv",
        "colab": {
          "base_uri": "https://localhost:8080/"
        },
        "outputId": "88791862-85ca-4981-cc04-999e99e97979"
      },
      "execution_count": null,
      "outputs": [
        {
          "output_type": "stream",
          "name": "stdout",
          "text": [
            "[7 8 9]\n"
          ]
        }
      ]
    },
    {
      "cell_type": "code",
      "source": [
        "arr = np.array([[1, 2, 3, 4, 5], [6, 7, 8, 9, 10]])\n",
        "\n",
        "print(arr[0:2, 2])"
      ],
      "metadata": {
        "id": "256mn2z6StWA",
        "colab": {
          "base_uri": "https://localhost:8080/"
        },
        "outputId": "f0f37f6e-2cd7-4699-e29e-916f2f74d1a8"
      },
      "execution_count": null,
      "outputs": [
        {
          "output_type": "stream",
          "name": "stdout",
          "text": [
            "[3 8]\n"
          ]
        }
      ]
    },
    {
      "cell_type": "code",
      "source": [
        "arr = np.array([[1, 2, 3, 4, 5], [6, 7, 8, 9, 10]])\n",
        "\n",
        "print(arr[0:2, 1:4],end=\" \")"
      ],
      "metadata": {
        "colab": {
          "base_uri": "https://localhost:8080/"
        },
        "id": "c9DiWcSnUyiR",
        "outputId": "4ea7d85a-d4c1-4c15-bd61-812d6f7c16f0"
      },
      "execution_count": null,
      "outputs": [
        {
          "output_type": "stream",
          "name": "stdout",
          "text": [
            "[[2 3 4]\n",
            " [7 8 9]] "
          ]
        }
      ]
    },
    {
      "cell_type": "code",
      "source": [
        "\n",
        "arr = np.array([1, 2, 3, 4, 5])\n",
        "x = arr.copy()\n",
        "arr[0] = 42\n",
        "\n",
        "print(arr)\n",
        "print(x)"
      ],
      "metadata": {
        "colab": {
          "base_uri": "https://localhost:8080/"
        },
        "id": "Qu21H7p-U4Fc",
        "outputId": "63f76bf6-0ab9-4e16-d039-0a12e0c79d56"
      },
      "execution_count": null,
      "outputs": [
        {
          "output_type": "stream",
          "name": "stdout",
          "text": [
            "[42  2  3  4  5]\n",
            "[1 2 3 4 5]\n"
          ]
        }
      ]
    },
    {
      "cell_type": "code",
      "source": [
        "\n",
        "arr = np.array([1, 2, 3, 4, 5])\n",
        "x = arr.view()\n",
        "arr[0] = 42\n",
        "\n",
        "print(arr)\n",
        "print(x)"
      ],
      "metadata": {
        "colab": {
          "base_uri": "https://localhost:8080/"
        },
        "id": "ITXc-8cqW1S4",
        "outputId": "4e918994-45af-455d-e296-d255d425d8fd"
      },
      "execution_count": null,
      "outputs": [
        {
          "output_type": "stream",
          "name": "stdout",
          "text": [
            "[42  2  3  4  5]\n",
            "[42  2  3  4  5]\n"
          ]
        }
      ]
    },
    {
      "cell_type": "code",
      "source": [
        "arr = np.array([1, 2, 3, 4, 5])\n",
        "\n",
        "x = arr.copy()\n",
        "y = arr.view()\n",
        "\n",
        "print(x.base)\n",
        "print(y.base)"
      ],
      "metadata": {
        "colab": {
          "base_uri": "https://localhost:8080/"
        },
        "id": "6--1xeiYW7GE",
        "outputId": "4fd5899a-b9d7-4be2-a474-b5c08d5135d8"
      },
      "execution_count": null,
      "outputs": [
        {
          "output_type": "stream",
          "name": "stdout",
          "text": [
            "None\n",
            "[1 2 3 4 5]\n"
          ]
        }
      ]
    },
    {
      "cell_type": "code",
      "source": [
        "arr = np.array([1, 2, 3, 4], ndmin=5)\n",
        "\n",
        "print(arr)\n",
        "print('shape of array :', arr.shape)\n",
        "print(arr.ndim)\n",
        "print(arr.dtype)"
      ],
      "metadata": {
        "colab": {
          "base_uri": "https://localhost:8080/"
        },
        "id": "hCO-gipLXiJv",
        "outputId": "095ad7cc-270e-4f79-a592-7e30b2385d17"
      },
      "execution_count": null,
      "outputs": [
        {
          "output_type": "stream",
          "name": "stdout",
          "text": [
            "[[[[[1 2 3 4]]]]]\n",
            "shape of array : (1, 1, 1, 1, 4)\n",
            "5\n",
            "int64\n"
          ]
        }
      ]
    },
    {
      "cell_type": "code",
      "source": [
        "arr = np.array([1, 2, 3, 4, 5, 6, 7, 8, 9, 10, 11, 12])\n",
        "\n",
        "newarr = arr.reshape(4, 3)\n",
        "\n",
        "print(newarr)"
      ],
      "metadata": {
        "colab": {
          "base_uri": "https://localhost:8080/"
        },
        "id": "yDmIOcJXX-5R",
        "outputId": "4c6900f9-92c8-4f93-c090-203cb6882db5"
      },
      "execution_count": null,
      "outputs": [
        {
          "output_type": "stream",
          "name": "stdout",
          "text": [
            "[[ 1  2  3]\n",
            " [ 4  5  6]\n",
            " [ 7  8  9]\n",
            " [10 11 12]]\n"
          ]
        }
      ]
    },
    {
      "cell_type": "code",
      "source": [
        "arr = np.array([1, 2, 3, 4, 5, 6, 7, 8, 9, 10, 11, 12])\n",
        "\n",
        "newarr = arr.reshape(2, 3,2)\n",
        "\n",
        "print(newarr)"
      ],
      "metadata": {
        "colab": {
          "base_uri": "https://localhost:8080/"
        },
        "id": "iL_QgzthYouK",
        "outputId": "dc6da9f6-e9fa-4772-a424-7a04f2779404"
      },
      "execution_count": null,
      "outputs": [
        {
          "output_type": "stream",
          "name": "stdout",
          "text": [
            "[[[ 1  2]\n",
            "  [ 3  4]\n",
            "  [ 5  6]]\n",
            "\n",
            " [[ 7  8]\n",
            "  [ 9 10]\n",
            "  [11 12]]]\n"
          ]
        }
      ]
    },
    {
      "cell_type": "code",
      "source": [
        "arr = np.array([1, 2, 3, 4, 5, 6, 7, 8])\n",
        "arr2=arr.reshape(2,4)\n",
        "print(arr2)\n",
        "print(arr2.base)\n",
        "print(arr.reshape(2, 4).base)\n"
      ],
      "metadata": {
        "colab": {
          "base_uri": "https://localhost:8080/"
        },
        "id": "4KrQ9-DHY-mu",
        "outputId": "3e142de9-f8a8-401f-abf4-49cd7421b807"
      },
      "execution_count": null,
      "outputs": [
        {
          "output_type": "stream",
          "name": "stdout",
          "text": [
            "[[1 2 3 4]\n",
            " [5 6 7 8]]\n",
            "[1 2 3 4 5 6 7 8]\n",
            "[1 2 3 4 5 6 7 8]\n"
          ]
        }
      ]
    },
    {
      "cell_type": "code",
      "source": [
        "import numpy as np\n",
        "a=np.array(list(range(1,101)))\n",
        "b=a.reshape(10,10)\n",
        "for i in b:\n",
        "  for b in i:\n",
        "    print(b,end=\" \")\n",
        "  print()"
      ],
      "metadata": {
        "colab": {
          "base_uri": "https://localhost:8080/"
        },
        "id": "D9UMgqFe7b-V",
        "outputId": "30aebbcf-0153-4b6c-f61b-9b4c28b24aec"
      },
      "execution_count": null,
      "outputs": [
        {
          "output_type": "stream",
          "name": "stdout",
          "text": [
            "1 2 3 4 5 6 7 8 9 10 \n",
            "11 12 13 14 15 16 17 18 19 20 \n",
            "21 22 23 24 25 26 27 28 29 30 \n",
            "31 32 33 34 35 36 37 38 39 40 \n",
            "41 42 43 44 45 46 47 48 49 50 \n",
            "51 52 53 54 55 56 57 58 59 60 \n",
            "61 62 63 64 65 66 67 68 69 70 \n",
            "71 72 73 74 75 76 77 78 79 80 \n",
            "81 82 83 84 85 86 87 88 89 90 \n",
            "91 92 93 94 95 96 97 98 99 100 \n"
          ]
        }
      ]
    },
    {
      "cell_type": "code",
      "source": [
        "#3D array with unknown dimension\n",
        "arr = np.array([1, 2, 3, 4, 5, 6, 7, 8])\n",
        "\n",
        "newarr = arr.reshape(2, 2, -1)\n",
        "\n",
        "print(newarr)"
      ],
      "metadata": {
        "colab": {
          "base_uri": "https://localhost:8080/"
        },
        "id": "CV2SRWz8ZQ0S",
        "outputId": "87e26881-a2ca-4d51-93bc-065b3798d4f4"
      },
      "execution_count": null,
      "outputs": [
        {
          "output_type": "stream",
          "name": "stdout",
          "text": [
            "[[[1 2]\n",
            "  [3 4]]\n",
            "\n",
            " [[5 6]\n",
            "  [7 8]]]\n"
          ]
        }
      ]
    },
    {
      "cell_type": "code",
      "source": [
        "#Converting multi dimensional array into 1\n",
        "arr = np.array([[1, 2, 3], [4, 5, 6]])\n",
        "\n",
        "newarr = arr.reshape(-1)\n",
        "\n",
        "print(newarr)"
      ],
      "metadata": {
        "colab": {
          "base_uri": "https://localhost:8080/"
        },
        "id": "cU7Qm-iWZqkv",
        "outputId": "3c7d0041-830c-4e81-9f4a-24e98bcf8d71"
      },
      "execution_count": null,
      "outputs": [
        {
          "output_type": "stream",
          "name": "stdout",
          "text": [
            "[1 2 3 4 5 6]\n"
          ]
        }
      ]
    },
    {
      "cell_type": "code",
      "source": [
        "#Converting multi dimensional array into 1\n",
        "arr = np.array([[[1, 2, 3], [4, 5, 6]],[[1, 2, 3], [4, 5, 6]]])\n",
        "\n",
        "newarr = arr.reshape(-1)\n",
        "\n",
        "print(newarr)"
      ],
      "metadata": {
        "colab": {
          "base_uri": "https://localhost:8080/"
        },
        "id": "eG7vDlMsawIV",
        "outputId": "ba41ca6e-5cb0-45ff-90f1-3b14951fd87f"
      },
      "execution_count": null,
      "outputs": [
        {
          "output_type": "stream",
          "name": "stdout",
          "text": [
            "[1 2 3 4 5 6 1 2 3 4 5 6]\n"
          ]
        }
      ]
    },
    {
      "cell_type": "code",
      "source": [
        "#Iterating 3D array one by one\n",
        "arr = np.array([[[1, 2, 3], [4, 5, 6]], [[7, 8, 9], [10, 11, 12]]])\n",
        "# for i in arr:\n",
        "#   for j in i:\n",
        "#     for k in j:\n",
        "#       print(k,end=\" \")\n",
        "#     print()\n",
        "\n",
        "#print in reverse order\n",
        "for i in range((len(arr)-1),-1,-1):\n",
        "  for j in range((len(arr[i])-1),-1,-1):\n",
        "    for k in range((len(arr[i][j])-1),-1,-1):\n",
        "      print(arr[i][j][k],end=' ')\n",
        "    print()\n",
        "\n"
      ],
      "metadata": {
        "colab": {
          "base_uri": "https://localhost:8080/"
        },
        "id": "FvkW7c1ebELo",
        "outputId": "34be41ad-0b9c-43a2-94be-080bfe864d85"
      },
      "execution_count": null,
      "outputs": [
        {
          "output_type": "stream",
          "name": "stdout",
          "text": [
            "12 11 10 \n",
            "9 8 7 \n",
            "6 5 4 \n",
            "3 2 1 \n"
          ]
        }
      ]
    },
    {
      "cell_type": "code",
      "source": [
        "import numpy as np\n",
        "\n",
        "arr = np.array([[[1, 2], [3, 4]], [[5, 6], [7, 8]]])\n",
        "\n",
        "for x in np.nditer(arr):\n",
        "  print(x,end=\" \")\n",
        "print()"
      ],
      "metadata": {
        "colab": {
          "base_uri": "https://localhost:8080/"
        },
        "id": "_RJdaqLSbtTd",
        "outputId": "58105fc1-8201-4932-b989-0ff851fc1042"
      },
      "execution_count": null,
      "outputs": [
        {
          "output_type": "stream",
          "name": "stdout",
          "text": [
            "1 2 3 4 5 6 7 8 \n"
          ]
        }
      ]
    },
    {
      "cell_type": "code",
      "source": [
        "arr1 = np.array([1, 2, 3])\n",
        "\n",
        "arr2 = np.array([4, 5, 6])\n",
        "\n",
        "arr = np.stack((arr1, arr2), axis=1)\n",
        "\n",
        "print(arr)"
      ],
      "metadata": {
        "colab": {
          "base_uri": "https://localhost:8080/"
        },
        "id": "M2OZ5aOLcqLK",
        "outputId": "5bf2396f-fc46-4ecf-f527-87740c98d9d7"
      },
      "execution_count": null,
      "outputs": [
        {
          "output_type": "stream",
          "name": "stdout",
          "text": [
            "[[1 4]\n",
            " [2 5]\n",
            " [3 6]]\n"
          ]
        }
      ]
    },
    {
      "cell_type": "code",
      "source": [
        "arr = np.array([1, 2, 3, 4, 5, 6])\n",
        "\n",
        "newarr = np.array_split(arr, 3)\n",
        "\n",
        "print(newarr)\n",
        "for i in newarr:\n",
        "  print(i,end=\" \")\n",
        "print()\n",
        "\n",
        "print(newarr[0])\n",
        "print(newarr[1])\n",
        "print(newarr[2])\n",
        "\n"
      ],
      "metadata": {
        "colab": {
          "base_uri": "https://localhost:8080/"
        },
        "id": "6V6Xi-Nrc9Wu",
        "outputId": "931ec4f0-5ae9-47b7-dfbb-453250c8fee4"
      },
      "execution_count": null,
      "outputs": [
        {
          "output_type": "stream",
          "name": "stdout",
          "text": [
            "[array([1, 2]), array([3, 4]), array([5, 6])]\n",
            "[1 2] [3 4] [5 6] \n",
            "[1 2]\n",
            "[3 4]\n",
            "[5 6]\n"
          ]
        }
      ]
    },
    {
      "cell_type": "code",
      "source": [
        "#Array searching\n",
        "arr=np.array([1,2,3,4,5,56])\n",
        "x=np.where(arr==4)\n",
        "print(x)\n",
        "y=np.where(arr%2==0)\n",
        "print(y)"
      ],
      "metadata": {
        "colab": {
          "base_uri": "https://localhost:8080/"
        },
        "id": "mBwEl1f6dR5N",
        "outputId": "3925fd72-9b80-4aa9-dc2e-6cca402e1af8"
      },
      "execution_count": null,
      "outputs": [
        {
          "output_type": "stream",
          "name": "stdout",
          "text": [
            "(array([3]),)\n",
            "(array([1, 3, 5]),)\n"
          ]
        }
      ]
    },
    {
      "cell_type": "code",
      "source": [
        "#Print the numpy array in ascending and descending order\n",
        "arr10=np.array([1,2,3,4,4,5,5,61,0,22,11,22])\n",
        "newarrr=np.sort(arr10)\n",
        "rev=newarrr[::-1]\n",
        "print(rev)"
      ],
      "metadata": {
        "colab": {
          "base_uri": "https://localhost:8080/"
        },
        "id": "3Tf9iXZKeCuq",
        "outputId": "02290a5b-48eb-48bb-d977-a91bb335898e"
      },
      "execution_count": null,
      "outputs": [
        {
          "output_type": "stream",
          "name": "stdout",
          "text": [
            "[61 22 22 11  5  5  4  4  3  2  1  0]\n"
          ]
        }
      ]
    },
    {
      "cell_type": "code",
      "source": [
        "x = np.arange(5)\n",
        "x+10"
      ],
      "metadata": {
        "colab": {
          "base_uri": "https://localhost:8080/"
        },
        "id": "d8Z4g7rzu15k",
        "outputId": "af56806b-a1d4-4889-ea36-9d160c852715"
      },
      "execution_count": null,
      "outputs": [
        {
          "output_type": "execute_result",
          "data": {
            "text/plain": [
              "array([10, 11, 12, 13, 14])"
            ]
          },
          "metadata": {},
          "execution_count": 44
        }
      ]
    },
    {
      "cell_type": "code",
      "source": [
        "x=np.array([[2,3,4],[5,6,7]])\n",
        "y=np.reshape(x,(3,2))\n",
        "print(y)"
      ],
      "metadata": {
        "colab": {
          "base_uri": "https://localhost:8080/"
        },
        "id": "zZR03K7qrvBh",
        "outputId": "0e0c8593-d22f-414a-e9df-2337a6be3f58"
      },
      "execution_count": null,
      "outputs": [
        {
          "output_type": "stream",
          "name": "stdout",
          "text": [
            "[[2 3]\n",
            " [4 5]\n",
            " [6 7]]\n"
          ]
        }
      ]
    },
    {
      "cell_type": "code",
      "source": [
        "x=np.arange(6).reshape((3,2))\n",
        "y=np.transpose(x)\n",
        "print(y)"
      ],
      "metadata": {
        "colab": {
          "base_uri": "https://localhost:8080/"
        },
        "id": "dti6KgrGsa8R",
        "outputId": "d8b58920-2744-4751-9989-5db0c6ddcba9"
      },
      "execution_count": null,
      "outputs": [
        {
          "output_type": "stream",
          "name": "stdout",
          "text": [
            "[[0 2 4]\n",
            " [1 3 5]]\n"
          ]
        }
      ]
    },
    {
      "cell_type": "code",
      "source": [
        "x=np.array([[2,3,4,8],[5,6,7,9]])\n",
        "y=np.reshape(x,(4,-2))\n",
        "print(y)"
      ],
      "metadata": {
        "colab": {
          "base_uri": "https://localhost:8080/"
        },
        "id": "UoicEUGEq6Zt",
        "outputId": "8f24725a-f7fb-4a48-a144-f9d068a44023"
      },
      "execution_count": null,
      "outputs": [
        {
          "output_type": "stream",
          "name": "stdout",
          "text": [
            "[[2 3]\n",
            " [4 8]\n",
            " [5 6]\n",
            " [7 9]]\n"
          ]
        }
      ]
    },
    {
      "cell_type": "markdown",
      "source": [
        "# **OOP CONCEPT**"
      ],
      "metadata": {
        "id": "WWetHpDKfvBP"
      }
    },
    {
      "cell_type": "code",
      "source": [
        "#Class create using function syntax\n",
        "class Alif():\n",
        "  def __init__(self,p1,p2):\n",
        "    self.p1=p1\n",
        "    self.p2=p2\n",
        "  def fun(self):\n",
        "    print(self.p1)"
      ],
      "metadata": {
        "id": "V5Swpi_lepWu"
      },
      "execution_count": null,
      "outputs": []
    },
    {
      "cell_type": "code",
      "source": [
        "#print with object\n",
        "class Animal():\n",
        "  def __init__(self,name,color):\n",
        "    self.name=name\n",
        "    self.color=color\n",
        "  def running(self):\n",
        "    print(f'hey i am {self.name}. Now i am running.')\n",
        "  def drinking(self):\n",
        "    print(f'hey my color is {self.color}. Now i am drinking')\n",
        "Tom=Animal('Cow','Brown')\n",
        "Tom.running()\n",
        "Tom.drinking()"
      ],
      "metadata": {
        "colab": {
          "base_uri": "https://localhost:8080/"
        },
        "id": "Bl8P2hg-iVUc",
        "outputId": "379dd84c-b4d2-4026-e50b-50f8623f055c"
      },
      "execution_count": null,
      "outputs": [
        {
          "output_type": "stream",
          "name": "stdout",
          "text": [
            "hey i am Cow. Now i am running.\n",
            "hey my color is Brown. Now i am drinking\n"
          ]
        }
      ]
    },
    {
      "cell_type": "code",
      "source": [
        "Bobby=Animal(\"Cat\",\"Black\")\n",
        "Bobby.running()\n",
        "Bobby.drinking()"
      ],
      "metadata": {
        "colab": {
          "base_uri": "https://localhost:8080/"
        },
        "id": "I2Y0cvqujvg5",
        "outputId": "0887b6da-fe9f-421c-f411-b47c355763bb"
      },
      "execution_count": null,
      "outputs": [
        {
          "output_type": "stream",
          "name": "stdout",
          "text": [
            "hey i am Cat. Now i am running.\n",
            "hey my color is Black. Now i am drinking\n"
          ]
        }
      ]
    },
    {
      "cell_type": "code",
      "source": [
        "#class object attribute\n",
        "class Atom():\n",
        "  species=\"Mammal\"\n",
        "  def __init__(this,name,colour):\n",
        "    this.name=name\n",
        "    this.colour=colour\n",
        "  def running(this):\n",
        "    print(f'Hey My name is {this.name}, I am running')\n",
        "  def drinking(this):\n",
        "    print(f'My color is {this.colour}, I am drinking')\n",
        "Tam=Atom('Jerry','Brown')\n",
        "Mick=Atom('Tom','Sky')\n",
        "print('Class object attribute from Tam',Tam.species)\n",
        "print('Class object attribute from Mick',Mick.species)\n",
        "Tam.running()\n",
        "Tam.drinking()\n",
        "Mick.running()\n",
        "Mick.drinking()"
      ],
      "metadata": {
        "colab": {
          "base_uri": "https://localhost:8080/"
        },
        "id": "yGp-yL1lj4WK",
        "outputId": "835df273-3b8a-4ce8-ff2c-4ed079f0ee86"
      },
      "execution_count": null,
      "outputs": [
        {
          "output_type": "stream",
          "name": "stdout",
          "text": [
            "Class object attribute from Tam Mammal\n",
            "Class object attribute from Mick Mammal\n",
            "Hey My name is Jerry, I am running\n",
            "My color is Brown, I am drinking\n",
            "Hey My name is Tom, I am running\n",
            "My color is Sky, I am drinking\n"
          ]
        }
      ]
    },
    {
      "cell_type": "code",
      "source": [
        "a = \"Hello, World!\"\n",
        "print(a[1])"
      ],
      "metadata": {
        "colab": {
          "base_uri": "https://localhost:8080/"
        },
        "id": "9_ONg2IeYgDe",
        "outputId": "8f403286-8a09-43ce-a0ac-8da6181dc629"
      },
      "execution_count": null,
      "outputs": [
        {
          "output_type": "stream",
          "name": "stdout",
          "text": [
            "e\n"
          ]
        }
      ]
    },
    {
      "cell_type": "code",
      "source": [
        "a = \"Hello\"\n",
        "b=\",World! \"\n",
        "print(a.strip(b))"
      ],
      "metadata": {
        "colab": {
          "base_uri": "https://localhost:8080/"
        },
        "id": "quk5EnllYgwp",
        "outputId": "7ffc6099-a1f0-43d6-83b2-47e8c89cfe91"
      },
      "execution_count": null,
      "outputs": [
        {
          "output_type": "stream",
          "name": "stdout",
          "text": [
            "He\n"
          ]
        }
      ]
    },
    {
      "cell_type": "code",
      "source": [
        "fruits = (\"apple\", \"banana\", \"cherry\")\n",
        "mytuple = fruits * 2\n",
        "\n",
        "print(mytuple)"
      ],
      "metadata": {
        "colab": {
          "base_uri": "https://localhost:8080/"
        },
        "id": "aA-LwkyYY9Se",
        "outputId": "d01eeed0-4531-4923-bce5-3f67ff8d2845"
      },
      "execution_count": null,
      "outputs": [
        {
          "output_type": "stream",
          "name": "stdout",
          "text": [
            "('apple', 'banana', 'cherry', 'apple', 'banana', 'cherry')\n"
          ]
        }
      ]
    },
    {
      "cell_type": "code",
      "source": [
        "w3"
      ],
      "metadata": {
        "id": "RkcEe7YndQxj",
        "outputId": "97d5117b-f324-4c26-ff0f-637212c94ebc",
        "colab": {
          "base_uri": "https://localhost:8080/",
          "height": 179
        }
      },
      "execution_count": null,
      "outputs": [
        {
          "output_type": "error",
          "ename": "NameError",
          "evalue": "ignored",
          "traceback": [
            "\u001b[0;31m---------------------------------------------------------------------------\u001b[0m",
            "\u001b[0;31mNameError\u001b[0m                                 Traceback (most recent call last)",
            "\u001b[0;32m<ipython-input-55-e4b9de1f8d3c>\u001b[0m in \u001b[0;36m<cell line: 1>\u001b[0;34m()\u001b[0m\n\u001b[0;32m----> 1\u001b[0;31m \u001b[0mw3\u001b[0m\u001b[0;34m\u001b[0m\u001b[0;34m\u001b[0m\u001b[0m\n\u001b[0m",
            "\u001b[0;31mNameError\u001b[0m: name 'w3' is not defined"
          ]
        }
      ]
    }
  ]
}